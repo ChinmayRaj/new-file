{
  "cells": [
    {
      "cell_type": "markdown",
      "metadata": {
        "id": "-rg2_bj0eYTW"
      },
      "source": [
        "<center>\n",
        "    <img src=\"https://s3-api.us-geo.objectstorage.softlayer.net/cf-courses-data/CognitiveClass/Logos/organization_logo/organization_logo.png\" width=\"300\" alt=\"cognitiveclass.ai logo\"  />\n",
        "</center>\n"
      ]
    },
    {
      "cell_type": "markdown",
      "metadata": {
        "id": "a-ydi-GqeYTk"
      },
      "source": [
        "#### Add your code below following the instructions given in the course\n"
      ]
    },
    {
      "cell_type": "markdown",
      "source": [
        "**\"My Jupyter Notebook on IBM Watson Studio\"**"
      ],
      "metadata": {
        "id": "xMFuvLDpfZDA"
      }
    },
    {
      "cell_type": "markdown",
      "source": [
        "**CHINMAY RAJ SHAH**"
      ],
      "metadata": {
        "id": "xCnPrcr2fuoq"
      }
    },
    {
      "cell_type": "markdown",
      "source": [
        "STUDENT"
      ],
      "metadata": {
        "id": "_Bnvoxjdf5G9"
      }
    },
    {
      "cell_type": "markdown",
      "source": [
        "*I am interested in data science because i am very interested in playing with the data provided so that we can get some interesting story behind the data.*"
      ],
      "metadata": {
        "id": "i1xkFDZUgjc8"
      }
    },
    {
      "cell_type": "markdown",
      "source": [
        "# New section\n",
        "I am adding 1 to 1  and assigning it to x variable and then printing it."
      ],
      "metadata": {
        "id": "GGV7J-FxiGtw"
      }
    },
    {
      "cell_type": "code",
      "execution_count": 2,
      "metadata": {
        "colab": {
          "base_uri": "https://localhost:8080/"
        },
        "id": "Gs7NPpaleYTl",
        "outputId": "926e399e-e462-47a4-a1eb-1d3af23b4aed"
      },
      "outputs": [
        {
          "output_type": "stream",
          "name": "stdout",
          "text": [
            "2\n"
          ]
        }
      ],
      "source": [
        "x=1+1\n",
        "print(x)"
      ]
    }
  ],
  "metadata": {
    "kernelspec": {
      "display_name": "Python 3",
      "language": "python",
      "name": "python3"
    },
    "language_info": {
      "codemirror_mode": {
        "name": "ipython",
        "version": 3
      },
      "file_extension": ".py",
      "mimetype": "text/x-python",
      "name": "python",
      "nbconvert_exporter": "python",
      "pygments_lexer": "ipython3",
      "version": "3.7.6"
    },
    "colab": {
      "provenance": []
    }
  },
  "nbformat": 4,
  "nbformat_minor": 0
}